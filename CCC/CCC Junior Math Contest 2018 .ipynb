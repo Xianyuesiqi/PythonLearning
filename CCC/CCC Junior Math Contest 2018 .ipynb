{
 "cells": [
  {
   "cell_type": "markdown",
   "metadata": {},
   "source": [
    "<h3>Problem J1: Telemarketer or not?</h3>\n",
    "Problem Description\n",
    "Here at the Concerned Citizens of Commerce (CCC), we have noted that telemarketers like to use\n",
    "seven-digit phone numbers where the last four digits have three properties. Looking just at the last\n",
    "four digits, these properties are:\n",
    "• the first of these four digits is an 8 or 9;\n",
    "• the last digit is an 8 or 9;\n",
    "• the second and third digits are the same.\n",
    "For example, if the last four digits of the telephone number are 8229, 8338, or 9008, these are\n",
    "telemarketer numbers.\n",
    "Write a program to decide if a telephone number is a telemarketer number or not, based on the\n",
    "last four digits. If the number is not a telemarketer number, we should answer the phone, and\n",
    "otherwise, we should ignore it.\n",
    "Input Specification\n",
    "The input will be 4 lines where each line contains exactly one digit in the range from 0 to 9.\n",
    "Output Specification\n",
    "Output either ignore if the number matches the pattern for a telemarketer number; otherwise,\n",
    "output answer."
   ]
  },
  {
   "cell_type": "code",
   "execution_count": 2,
   "metadata": {},
   "outputs": [
    {
     "name": "stdout",
     "output_type": "stream",
     "text": [
      "8\n",
      "3\n",
      "3\n",
      "9\n",
      "\n"
     ]
    }
   ],
   "source": [
    "vlist = []\n",
    "while True:\n",
    "    line = input()\n",
    "    if line:\n",
    "        vlist.append(line)\n",
    "    else:\n",
    "        break"
   ]
  },
  {
   "cell_type": "code",
   "execution_count": 3,
   "metadata": {},
   "outputs": [
    {
     "name": "stdout",
     "output_type": "stream",
     "text": [
      "['8', '3', '3', '9']\n"
     ]
    }
   ],
   "source": [
    "print(vlist)"
   ]
  },
  {
   "cell_type": "code",
   "execution_count": 4,
   "metadata": {},
   "outputs": [
    {
     "data": {
      "text/plain": [
       "True"
      ]
     },
     "execution_count": 4,
     "metadata": {},
     "output_type": "execute_result"
    }
   ],
   "source": [
    "result = (vlist[0] == \"8\" or vlist[0] == \"9\") and (vlist[3] == \"8\" or vlist[3] == \"9\") and (vlist[1] == vlist[2])\n",
    "result"
   ]
  },
  {
   "cell_type": "code",
   "execution_count": 5,
   "metadata": {},
   "outputs": [
    {
     "name": "stdout",
     "output_type": "stream",
     "text": [
      "answer\n"
     ]
    }
   ],
   "source": [
    "if result:\n",
    "    print(\"answer\")\n",
    "else:\n",
    "    print(\"ignore\")"
   ]
  },
  {
   "cell_type": "code",
   "execution_count": null,
   "metadata": {},
   "outputs": [],
   "source": []
  },
  {
   "cell_type": "code",
   "execution_count": null,
   "metadata": {},
   "outputs": [],
   "source": []
  }
 ],
 "metadata": {
  "kernelspec": {
   "display_name": "Python 3",
   "language": "python",
   "name": "python3"
  },
  "language_info": {
   "codemirror_mode": {
    "name": "ipython",
    "version": 3
   },
   "file_extension": ".py",
   "mimetype": "text/x-python",
   "name": "python",
   "nbconvert_exporter": "python",
   "pygments_lexer": "ipython3",
   "version": "3.6.3"
  }
 },
 "nbformat": 4,
 "nbformat_minor": 2
}
